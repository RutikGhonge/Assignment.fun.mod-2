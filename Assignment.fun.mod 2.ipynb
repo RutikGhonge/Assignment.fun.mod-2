{
 "cells": [
  {
   "cell_type": "code",
   "execution_count": null,
   "id": "7c727345",
   "metadata": {},
   "outputs": [],
   "source": [
    "Write a Python program to reverse a string."
   ]
  },
  {
   "cell_type": "code",
   "execution_count": 1,
   "id": "1eabbf44",
   "metadata": {},
   "outputs": [
    {
     "data": {
      "text/plain": [
       "'dcba4321'"
      ]
     },
     "execution_count": 1,
     "metadata": {},
     "output_type": "execute_result"
    }
   ],
   "source": [
    "s = \"1234abcd\"\n",
    "def reverse(s):\n",
    "    str=''\n",
    "    for i in s:\n",
    "        str=i+str\n",
    "    return str\n",
    "reverse(s)"
   ]
  }
 ],
 "metadata": {
  "kernelspec": {
   "display_name": "Python 3 (ipykernel)",
   "language": "python",
   "name": "python3"
  },
  "language_info": {
   "codemirror_mode": {
    "name": "ipython",
    "version": 3
   },
   "file_extension": ".py",
   "mimetype": "text/x-python",
   "name": "python",
   "nbconvert_exporter": "python",
   "pygments_lexer": "ipython3",
   "version": "3.10.0"
  }
 },
 "nbformat": 4,
 "nbformat_minor": 5
}
